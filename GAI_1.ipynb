{
  "nbformat": 4,
  "nbformat_minor": 0,
  "metadata": {
    "colab": {
      "provenance": [],
      "authorship_tag": "ABX9TyOihwERW4oaxkr596urCw3R",
      "include_colab_link": true
    },
    "kernelspec": {
      "name": "python3",
      "display_name": "Python 3"
    },
    "language_info": {
      "name": "python"
    }
  },
  "cells": [
    {
      "cell_type": "markdown",
      "metadata": {
        "id": "view-in-github",
        "colab_type": "text"
      },
      "source": [
        "<a href=\"https://colab.research.google.com/github/2303A52450/Generative-AI-batch39/blob/main/GAI_1.ipynb\" target=\"_parent\"><img src=\"https://colab.research.google.com/assets/colab-badge.svg\" alt=\"Open In Colab\"/></a>"
      ]
    },
    {
      "cell_type": "markdown",
      "source": [
        "2303A52450\n",
        "WEEK-1"
      ],
      "metadata": {
        "id": "pKjvPy6jMnoP"
      }
    },
    {
      "cell_type": "markdown",
      "source": [],
      "metadata": {
        "id": "TqzZF0RNMqNH"
      }
    },
    {
      "cell_type": "markdown",
      "source": [
        "QUESTION-1\n"
      ],
      "metadata": {
        "id": "OtL_lgt-Joaq"
      }
    },
    {
      "cell_type": "code",
      "execution_count": 1,
      "metadata": {
        "colab": {
          "base_uri": "https://localhost:8080/"
        },
        "id": "Y2n6o4_VJZJ3",
        "outputId": "12973691-7e51-472e-b564-6be472d8fccd"
      },
      "outputs": [
        {
          "output_type": "stream",
          "name": "stdout",
          "text": [
            "Error Metrics (From Scratch):\n",
            "MAE: 0.4600000000000016\n",
            "MSE: 0.24600000000000147\n",
            "RMSE: 0.49598387070549127\n",
            "MBE: 0.4600000000000016\n",
            "Correlation Error: 6.064244014969411e-05\n",
            "\n",
            "Error Metrics (Using Libraries):\n",
            "MAE: 0.4600000000000016\n",
            "MSE: 0.24600000000000147\n",
            "RMSE: 0.49598387070549127\n"
          ]
        }
      ],
      "source": [
        "import numpy as np\n",
        "from sklearn.metrics import mean_absolute_error, mean_squared_error\n",
        "\n",
        "# Define the actual and predicted values from Table 1\n",
        "Y_actual = [20, 30, 40, 50, 60]\n",
        "Y_pred = [20.5, 30.3, 40.2, 50.6, 60.7]\n",
        "\n",
        "# Calculate error metrics from scratch\n",
        "def calculate_metrics(Y_actual, Y_pred):\n",
        "    n = len(Y_actual)\n",
        "\n",
        "    # Mean Absolute Error (MAE)\n",
        "    mae = sum(abs(y_true - y_pred) for y_true, y_pred in zip(Y_actual, Y_pred)) / n\n",
        "\n",
        "    # Mean Squared Error (MSE)\n",
        "    mse = sum((y_true - y_pred) ** 2 for y_true, y_pred in zip(Y_actual, Y_pred)) / n\n",
        "\n",
        "    # Root Mean Squared Error (RMSE)\n",
        "    rmse = mse ** 0.5\n",
        "    mbe = sum(y_pred - y_true for y_true, y_pred in zip(Y_actual, Y_pred)) / n\n",
        "    correlation = np.corrcoef(Y_actual, Y_pred)[0, 1] # Correlation coefficient\n",
        "    correlation_error = 1 - correlation # Correlation error is 1 minus correlation coefficient\n",
        "\n",
        "    return mae, mse, rmse, mbe, correlation_error\n",
        "\n",
        "\n",
        "\n",
        "\n",
        "mae_scratch, mse_scratch, rmse_scratch,mbe_scratch,correlation_error_scratch= calculate_metrics(Y_actual, Y_pred)\n",
        "\n",
        "# Calculate error metrics using libraries\n",
        "mae_lib = mean_absolute_error(Y_actual, Y_pred)\n",
        "mse_lib = mean_squared_error(Y_actual, Y_pred)\n",
        "rmse_lib = np.sqrt(mse_lib)\n",
        "\n",
        "# Display the results\n",
        "print(\"Error Metrics (From Scratch):\")\n",
        "print(f\"MAE: {mae_scratch}\")\n",
        "print(f\"MSE: {mse_scratch}\")\n",
        "print(f\"RMSE: {rmse_scratch}\")\n",
        "print(f\"MBE: {mbe_scratch}\")\n",
        "print(f\"Correlation Error: {correlation_error_scratch}\")\n",
        "\n",
        "\n",
        "print(\"\\nError Metrics (Using Libraries):\")\n",
        "print(f\"MAE: {mae_lib}\")\n",
        "print(f\"MSE: {mse_lib}\")\n",
        "print(f\"RMSE: {rmse_lib}\")\n"
      ]
    },
    {
      "cell_type": "markdown",
      "source": [
        "QUESTION-2"
      ],
      "metadata": {
        "id": "_F2Hp_34Jrbu"
      }
    },
    {
      "cell_type": "code",
      "source": [
        "# Table 2 data\n",
        "Y_actual = [0, 0, 1, 1, 2, 0, 0, 0, 1, 0, 2, 0, 0, 1, 1, 2, 2, 1, 0, 2, 1, 0, 2, 2]\n",
        "Y_pred = [0, 1, 1, 2, 2, 0, 0, 1, 0, 2, 0, 2, 1, 2, 2, 1, 2, 2, 0, 2, 1, 2, 2, 2]\n",
        "\n",
        "# Step 1: Manual Implementation of Metrics\n",
        "def calculate_metrics_manual(y_actual, y_pred):\n",
        "    from collections import Counter\n",
        "\n",
        "    # Initialize variables\n",
        "    tp, fp, fn = Counter(), Counter(), Counter()\n",
        "    for a, p in zip(y_actual, y_pred):\n",
        "        if a == p:\n",
        "            tp[a] += 1\n",
        "        else:\n",
        "            fp[p] += 1\n",
        "            fn[a] += 1\n",
        "\n",
        "    # Unique classes\n",
        "    classes = sorted(set(y_actual))\n",
        "\n",
        "    # Calculate metrics for each class\n",
        "    metrics = {}\n",
        "    for cls in classes:\n",
        "        precision = tp[cls] / (tp[cls] + fp[cls]) if (tp[cls] + fp[cls]) > 0 else 0\n",
        "        recall = tp[cls] / (tp[cls] + fn[cls]) if (tp[cls] + fn[cls]) > 0 else 0\n",
        "        f1_score = (2 * precision * recall) / (precision + recall) if (precision + recall) > 0 else 0\n",
        "        metrics[cls] = {\n",
        "            \"precision\": precision,\n",
        "            \"recall\": recall,\n",
        "            \"f1_score\": f1_score\n",
        "        }\n",
        "\n",
        "    # Overall accuracy\n",
        "    accuracy = sum(1 for a, p in zip(y_actual, y_pred) if a == p) / len(y_actual)\n",
        "\n",
        "    return metrics, accuracy\n",
        "\n",
        "# Step 2: Compare with Library Metrics\n",
        "def calculate_metrics_library(y_actual, y_pred):\n",
        "    from sklearn.metrics import classification_report, accuracy_score\n",
        "\n",
        "    accuracy = accuracy_score(y_actual, y_pred)\n",
        "    report = classification_report(y_actual, y_pred, output_dict=True)\n",
        "\n",
        "    return report, accuracy\n",
        "\n",
        "# Manual calculation\n",
        "manual_metrics, manual_accuracy = calculate_metrics_manual(Y_actual, Y_pred)\n",
        "print(\"Manual Metrics:\")\n",
        "print(\"Accuracy:\", manual_accuracy)\n",
        "for cls, metrics in manual_metrics.items():\n",
        "    print(f\"Class {cls}: {metrics}\")\n",
        "\n",
        "# Library calculation\n",
        "library_metrics, library_accuracy = calculate_metrics_library(Y_actual, Y_pred)\n",
        "print(\"\\nLibrary Metrics:\")\n",
        "print(\"Accuracy:\", library_accuracy)\n",
        "for cls, metrics in library_metrics.items():\n",
        "    if isinstance(metrics, dict):\n",
        "        print(f\"Class {cls}: Precision: {metrics['precision']:.2f}, Recall: {metrics['recall']:.2f}, F1-Score: {metrics['f1-score']:.2f}\")\n"
      ],
      "metadata": {
        "id": "06qgHhY2JlBf"
      },
      "execution_count": null,
      "outputs": []
    }
  ]
}